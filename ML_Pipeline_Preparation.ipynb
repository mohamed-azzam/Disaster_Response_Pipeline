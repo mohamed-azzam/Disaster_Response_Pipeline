{
 "cells": [
  {
   "cell_type": "markdown",
   "metadata": {
    "id": "eLc7pg5Xe18P"
   },
   "source": [
    "# ML Pipeline Preparation\n",
    "Follow the instructions below to help you create your ML pipeline.\n",
    "### 1. Import libraries and load data from database.\n",
    "- Import Python libraries\n",
    "- Load dataset from database with [`read_sql_table`](https://pandas.pydata.org/pandas-docs/stable/generated/pandas.read_sql_table.html)\n",
    "- Define feature and target variables X and Y"
   ]
  },
  {
   "cell_type": "code",
   "execution_count": 6,
   "metadata": {
    "colab": {
     "base_uri": "https://localhost:8080/"
    },
    "id": "JB8NHj6Ye18R",
    "outputId": "06cb0a20-9d4d-4e18-8251-4f912af61253"
   },
   "outputs": [
    {
     "name": "stdout",
     "output_type": "stream",
     "text": [
      "[nltk_data] Downloading package punkt to /root/nltk_data...\n",
      "[nltk_data]   Package punkt is already up-to-date!\n",
      "[nltk_data] Downloading package stopwords to /root/nltk_data...\n",
      "[nltk_data]   Package stopwords is already up-to-date!\n",
      "[nltk_data] Downloading package wordnet to /root/nltk_data...\n",
      "[nltk_data]   Package wordnet is already up-to-date!\n"
     ]
    }
   ],
   "source": [
    "# import libraries\n",
    "from sqlalchemy import create_engine\n",
    "import numpy as np\n",
    "import pandas as pd\n",
    "import sqlite3\n",
    "import re\n",
    "import pickle\n",
    "\n",
    "import nltk\n",
    "nltk.download('punkt')\n",
    "nltk.download('stopwords')\n",
    "nltk.download('wordnet')\n",
    "\n",
    "from nltk.tokenize import word_tokenize\n",
    "from nltk.corpus import stopwords\n",
    "from nltk.stem.wordnet import WordNetLemmatizer\n",
    "from sklearn.feature_extraction.text import TfidfVectorizer\n",
    "\n",
    "from sklearn.pipeline import Pipeline\n",
    "\n",
    "from sklearn.model_selection import train_test_split\n",
    "from sklearn.model_selection import GridSearchCV\n",
    "from sklearn.ensemble import RandomForestClassifier\n",
    "from sklearn.neighbors import KNeighborsClassifier\n",
    "from sklearn.multioutput import MultiOutputClassifier\n",
    "\n",
    "from sklearn.metrics import classification_report"
   ]
  },
  {
   "cell_type": "code",
   "execution_count": 7,
   "metadata": {
    "id": "i4DpfXtfe18S"
   },
   "outputs": [],
   "source": [
    "# load data from database\n",
    "con = sqlite3.connect('DisasterResponse.db')\n",
    "df = pd.read_sql_query(\"SELECT * FROM Message\", con)\n",
    "X = df.message\n",
    "y = df.iloc[:, 6:]"
   ]
  },
  {
   "cell_type": "code",
   "execution_count": 3,
   "metadata": {},
   "outputs": [
    {
     "data": {
      "text/plain": [
       "Index(['request', 'offer', 'aid_related', 'medical_help', 'medical_products',\n",
       "       'search_and_rescue', 'security', 'military', 'child_alone', 'water',\n",
       "       'food', 'shelter', 'clothing', 'money', 'missing_people', 'refugees',\n",
       "       'death', 'other_aid', 'infrastructure_related', 'transport',\n",
       "       'buildings', 'electricity', 'tools', 'hospitals', 'shops',\n",
       "       'aid_centers', 'other_infrastructure', 'weather_related', 'floods',\n",
       "       'storm', 'fire', 'earthquake', 'cold', 'other_weather',\n",
       "       'direct_report'],\n",
       "      dtype='object')"
      ]
     },
     "execution_count": 3,
     "metadata": {},
     "output_type": "execute_result"
    }
   ],
   "source": [
    "y.columns"
   ]
  },
  {
   "cell_type": "markdown",
   "metadata": {
    "id": "xcl3LDjde18T"
   },
   "source": [
    "### 2. Write a tokenization function to process your text data"
   ]
  },
  {
   "cell_type": "code",
   "execution_count": 8,
   "metadata": {
    "id": "FGLrI2vTe18V"
   },
   "outputs": [],
   "source": [
    "def tokenize(text):\n",
    "    # normalizarion\n",
    "    text = text.lower()\n",
    "    text = text.strip()\n",
    "\n",
    "    # Punctuation Removal\n",
    "    text = re.sub(r\"[^a-zA-Z0-9]\", \" \", text)\n",
    "    \n",
    "    # word_tokenize\n",
    "    tokens = word_tokenize(text)\n",
    "\n",
    "    # Remove stop words\n",
    "    words = [token for token in tokens if token not in stopwords.words(\"english\")]\n",
    "\n",
    "    # Reduce words to their root form\n",
    "    lemmed = [WordNetLemmatizer().lemmatize(w) for w in words]\n",
    "\n",
    "    # re-create document from filtered lemmed\n",
    "    doc = ' '.join(lemmed)\n",
    "    \n",
    "    return doc"
   ]
  },
  {
   "cell_type": "code",
   "execution_count": 9,
   "metadata": {
    "colab": {
     "base_uri": "https://localhost:8080/"
    },
    "id": "h9hy0yaHbLQn",
    "outputId": "ffebc326-ce85-4787-b3d8-4ce9379b5a36"
   },
   "outputs": [
    {
     "data": {
      "text/plain": [
       "array(['weather update cold front cuba could pas haiti', 'hurricane',\n",
       "       'looking someone name',\n",
       "       'un report leogane 80 90 destroyed hospital st croix functioning need supply desperately',\n",
       "       'say west side haiti rest country today tonight',\n",
       "       'information national palace', 'storm sacred heart jesus',\n",
       "       'please need tent water silo thank',\n",
       "       'would like receive message thank',\n",
       "       'croix de bouquet health issue worker santo 15 area croix de bouquet'], \n",
       "      dtype='<U87')"
      ]
     },
     "execution_count": 9,
     "metadata": {},
     "output_type": "execute_result"
    }
   ],
   "source": [
    "# test tokenize\n",
    "normalize_corpus = np.vectorize(tokenize)\n",
    "norm_corpus = normalize_corpus(X.iloc[:10])\n",
    "norm_corpus"
   ]
  },
  {
   "cell_type": "markdown",
   "metadata": {
    "id": "uURkB3ACe18V"
   },
   "source": [
    "### 3. Build a machine learning pipeline\n",
    "This machine pipeline should take in the `message` column as input and output classification results on the other 36 categories in the dataset. You may find the [MultiOutputClassifier](http://scikit-learn.org/stable/modules/generated/sklearn.multioutput.MultiOutputClassifier.html) helpful for predicting multiple target variables."
   ]
  },
  {
   "cell_type": "code",
   "execution_count": 10,
   "metadata": {
    "id": "8UpJE8xTe18W"
   },
   "outputs": [],
   "source": [
    "pipeline = Pipeline([\n",
    "    ('tfidf', TfidfVectorizer(tokenizer=tokenize)),\n",
    "    ('clf', MultiOutputClassifier(RandomForestClassifier(n_jobs=-1)))\n",
    "])"
   ]
  },
  {
   "cell_type": "markdown",
   "metadata": {
    "id": "Lw-nKNHYe18X"
   },
   "source": [
    "### 4. Train pipeline\n",
    "- Split data into train and test sets\n",
    "- Train pipeline"
   ]
  },
  {
   "cell_type": "code",
   "execution_count": 11,
   "metadata": {
    "id": "IMlo3UuMe18Y"
   },
   "outputs": [
    {
     "data": {
      "text/plain": [
       "Pipeline(memory=None,\n",
       "     steps=[('tfidf', TfidfVectorizer(analyzer='word', binary=False, decode_error='strict',\n",
       "        dtype=<class 'numpy.int64'>, encoding='utf-8', input='content',\n",
       "        lowercase=True, max_df=1.0, max_features=None, min_df=1,\n",
       "        ngram_range=(1, 1), norm='l2', preprocessor=None, smooth_idf=True,\n",
       " ...oob_score=False, random_state=None, verbose=0,\n",
       "            warm_start=False),\n",
       "           n_jobs=1))])"
      ]
     },
     "execution_count": 11,
     "metadata": {},
     "output_type": "execute_result"
    }
   ],
   "source": [
    "X_train, X_test, y_train, y_test = train_test_split(X, y)\n",
    "# train classifier\n",
    "pipeline.fit(X_train, y_train)"
   ]
  },
  {
   "cell_type": "markdown",
   "metadata": {
    "id": "uJnIasabe18Y"
   },
   "source": [
    "### 5. Test your model\n",
    "Report the f1 score, precision and recall for each output category of the dataset. You can do this by iterating through the columns and calling sklearn's `classification_report` on each."
   ]
  },
  {
   "cell_type": "code",
   "execution_count": 12,
   "metadata": {
    "id": "G25MKBBae18Z"
   },
   "outputs": [],
   "source": [
    "# predict on test data\n",
    "y_pred = pipeline.predict(X_test)"
   ]
  },
  {
   "cell_type": "code",
   "execution_count": 13,
   "metadata": {
    "id": "DhkRD4z5lCn3"
   },
   "outputs": [
    {
     "name": "stdout",
     "output_type": "stream",
     "text": [
      "                        precision    recall  f1-score   support\n",
      "\n",
      "               request       0.61      0.17      0.26      1092\n",
      "                 offer       0.00      0.00      0.00        29\n",
      "           aid_related       0.59      0.39      0.47      2694\n",
      "          medical_help       0.50      0.01      0.02       514\n",
      "      medical_products       0.80      0.01      0.02       329\n",
      "     search_and_rescue       0.00      0.00      0.00       206\n",
      "              security       0.00      0.00      0.00       129\n",
      "              military       0.00      0.00      0.00       213\n",
      "           child_alone       0.00      0.00      0.00         0\n",
      "                 water       0.65      0.04      0.08       404\n",
      "                  food       0.61      0.13      0.21       700\n",
      "               shelter       0.62      0.03      0.06       583\n",
      "              clothing       1.00      0.01      0.02       100\n",
      "                 money       1.00      0.01      0.03       148\n",
      "        missing_people       0.00      0.00      0.00        76\n",
      "              refugees       0.00      0.00      0.00       207\n",
      "                 death       0.50      0.01      0.03       289\n",
      "             other_aid       0.33      0.02      0.03       861\n",
      "infrastructure_related       0.67      0.00      0.01       408\n",
      "             transport       0.75      0.01      0.02       294\n",
      "             buildings       0.33      0.00      0.01       316\n",
      "           electricity       0.00      0.00      0.00       134\n",
      "                 tools       0.00      0.00      0.00        41\n",
      "             hospitals       0.00      0.00      0.00        60\n",
      "                 shops       0.00      0.00      0.00        33\n",
      "           aid_centers       0.00      0.00      0.00        79\n",
      "  other_infrastructure       0.00      0.00      0.00       267\n",
      "       weather_related       0.69      0.33      0.45      1821\n",
      "                floods       0.45      0.02      0.04       534\n",
      "                 storm       0.48      0.03      0.05       632\n",
      "                  fire       0.00      0.00      0.00        64\n",
      "            earthquake       0.81      0.54      0.65       609\n",
      "                  cold       0.00      0.00      0.00       129\n",
      "         other_weather       0.50      0.00      0.01       340\n",
      "         direct_report       0.53      0.14      0.22      1242\n",
      "\n",
      "           avg / total       0.53      0.16      0.22     15577\n",
      "\n"
     ]
    },
    {
     "name": "stderr",
     "output_type": "stream",
     "text": [
      "/opt/conda/lib/python3.6/site-packages/sklearn/metrics/classification.py:1135: UndefinedMetricWarning: Precision and F-score are ill-defined and being set to 0.0 in labels with no predicted samples.\n",
      "  'precision', 'predicted', average, warn_for)\n",
      "/opt/conda/lib/python3.6/site-packages/sklearn/metrics/classification.py:1137: UndefinedMetricWarning: Recall and F-score are ill-defined and being set to 0.0 in labels with no true samples.\n",
      "  'recall', 'true', average, warn_for)\n"
     ]
    }
   ],
   "source": [
    "print(classification_report(y_test, y_pred, target_names=y.columns))"
   ]
  },
  {
   "cell_type": "markdown",
   "metadata": {
    "id": "J49ZCYmHe18a"
   },
   "source": [
    "### 6. Improve your model\n",
    "Use grid search to find better parameters. "
   ]
  },
  {
   "cell_type": "code",
   "execution_count": 11,
   "metadata": {
    "id": "7AQXaEp1e18a"
   },
   "outputs": [],
   "source": [
    "parameters = {\n",
    "    'tfidf__max_df': (0.5, 0.75, 1.0),\n",
    "    'tfidf__ngram_range': ((1, 1), (1,2)),\n",
    "    'tfidf__max_features': (None, 5000,10000),\n",
    "    'tfidf__use_idf': (True, False)\n",
    "}\n",
    "cv = GridSearchCV(pipeline, param_grid=parameters)"
   ]
  },
  {
   "cell_type": "markdown",
   "metadata": {
    "id": "iEHeOx2Be18b"
   },
   "source": [
    "### 7. Test your model\n",
    "Show the accuracy, precision, and recall of the tuned model.  \n",
    "\n",
    "Since this project focuses on code quality, process, and  pipelines, there is no minimum performance metric needed to pass. However, make sure to fine tune your models for accuracy, precision and recall to make your project stand out - especially for your portfolio!"
   ]
  },
  {
   "cell_type": "code",
   "execution_count": null,
   "metadata": {
    "id": "Eqnubcxme18c"
   },
   "outputs": [],
   "source": [
    "X_train, X_test, y_train, y_test = train_test_split(X, y)\n",
    "\n",
    "cv.fit(X_train, y_train)"
   ]
  },
  {
   "cell_type": "markdown",
   "metadata": {
    "id": "yDqTtv82e18c"
   },
   "source": [
    "### 8. Try improving your model further. Here are a few ideas:\n",
    "* try other machine learning algorithms\n",
    "* add other features besides the TF-IDF"
   ]
  },
  {
   "cell_type": "code",
   "execution_count": 24,
   "metadata": {
    "id": "dOLc1ilye18c"
   },
   "outputs": [],
   "source": [
    "pipeline = Pipeline([\n",
    "    ('tfidf', TfidfVectorizer(tokenizer=tokenize)),\n",
    "    ('clf', MultiOutputClassifier(KNeighborsClassifier()))\n",
    "])"
   ]
  },
  {
   "cell_type": "code",
   "execution_count": 26,
   "metadata": {},
   "outputs": [
    {
     "data": {
      "text/plain": [
       "Pipeline(memory=None,\n",
       "     steps=[('tfidf', TfidfVectorizer(analyzer='word', binary=False, decode_error='strict',\n",
       "        dtype=<class 'numpy.int64'>, encoding='utf-8', input='content',\n",
       "        lowercase=True, max_df=1.0, max_features=None, min_df=1,\n",
       "        ngram_range=(1, 1), norm='l2', preprocessor=None, smooth_idf=True,\n",
       " ...ric_params=None, n_jobs=1, n_neighbors=5, p=2,\n",
       "           weights='uniform'),\n",
       "           n_jobs=1))])"
      ]
     },
     "execution_count": 26,
     "metadata": {},
     "output_type": "execute_result"
    }
   ],
   "source": [
    "X_train, X_test, y_train, y_test = train_test_split(X, y)\n",
    "# train classifier\n",
    "pipeline.fit(X_train, y_train)"
   ]
  },
  {
   "cell_type": "code",
   "execution_count": 27,
   "metadata": {},
   "outputs": [],
   "source": [
    "# predict on test data\n",
    "y_pred = pipeline.predict(X_test)"
   ]
  },
  {
   "cell_type": "markdown",
   "metadata": {
    "id": "w_jeFRAre18d"
   },
   "source": [
    "### 9. Export your model as a pickle file"
   ]
  },
  {
   "cell_type": "code",
   "execution_count": 14,
   "metadata": {
    "id": "g4hvs-0ne18d"
   },
   "outputs": [],
   "source": [
    "Pkl_Filename = \"message_category.pkl\"  \n",
    "\n",
    "with open(Pkl_Filename, 'wb') as file:  \n",
    "    pickle.dump(pipeline, file)"
   ]
  },
  {
   "cell_type": "code",
   "execution_count": 15,
   "metadata": {},
   "outputs": [],
   "source": [
    "Pkl_Filename = \"message_category.pkl\"  \n",
    "\n",
    "with open(Pkl_Filename, 'rb') as file:  \n",
    "    Pickled_Model = pickle.load(file)"
   ]
  },
  {
   "cell_type": "markdown",
   "metadata": {
    "id": "-ITzyQ1Ke18d"
   },
   "source": [
    "### 10. Use this notebook to complete `train.py`\n",
    "Use the template file attached in the Resources folder to write a script that runs the steps above to create a database and export a model based on a new dataset specified by the user."
   ]
  },
  {
   "cell_type": "code",
   "execution_count": 1,
   "metadata": {
    "id": "xH6VmcQ_e18e"
   },
   "outputs": [
    {
     "name": "stdout",
     "output_type": "stream",
     "text": [
      "MESSAGE Step I: Downlaod need pacakages\n",
      "[nltk_data] Downloading package punkt to /root/nltk_data...\n",
      "[nltk_data]   Unzipping tokenizers/punkt.zip.\n",
      "[nltk_data] Downloading package stopwords to /root/nltk_data...\n",
      "[nltk_data]   Unzipping corpora/stopwords.zip.\n",
      "[nltk_data] Downloading package wordnet to /root/nltk_data...\n",
      "[nltk_data]   Unzipping corpora/wordnet.zip.\n",
      "MESSAGE Step II: Data Wrangling\n",
      "MESSAGE: Step 1 Load dataSets\n",
      "MESSAGE: Step 2 Merge the datasets on `id`\n",
      "MESSAGE: Step 3 Category column transfomation\n",
      "MESSAGE: Step 4 Add cat_df to df and drop cat col\n",
      "MESSAGE: Step 5 Export to sql\n",
      "Warning: Database already exist\n",
      "SUCCESS: Data Wrangling Done\n",
      "MESSAGE Step III: build model pipeline\n",
      "MESSAGE Step IV: train model pipeline\n",
      "/opt/conda/lib/python3.6/site-packages/sklearn/metrics/classification.py:1135: UndefinedMetricWarning: Precision and F-score are ill-defined and being set to 0.0 in labels with no predicted samples.\n",
      "  'precision', 'predicted', average, warn_for)\n",
      "/opt/conda/lib/python3.6/site-packages/sklearn/metrics/classification.py:1137: UndefinedMetricWarning: Recall and F-score are ill-defined and being set to 0.0 in labels with no true samples.\n",
      "  'recall', 'true', average, warn_for)\n",
      "                        precision    recall  f1-score   support\n",
      "\n",
      "               request       0.60      0.16      0.25      1116\n",
      "                 offer       0.00      0.00      0.00        27\n",
      "           aid_related       0.58      0.39      0.47      2722\n",
      "          medical_help       0.31      0.01      0.02       500\n",
      "      medical_products       1.00      0.00      0.01       303\n",
      "     search_and_rescue       0.00      0.00      0.00       187\n",
      "              security       0.00      0.00      0.00       121\n",
      "              military       0.00      0.00      0.00       212\n",
      "           child_alone       0.00      0.00      0.00         0\n",
      "                 water       0.53      0.04      0.07       419\n",
      "                  food       0.65      0.09      0.16       735\n",
      "               shelter       0.28      0.01      0.03       572\n",
      "              clothing       1.00      0.01      0.02       118\n",
      "                 money       0.50      0.01      0.01       142\n",
      "        missing_people       0.00      0.00      0.00        70\n",
      "              refugees       0.00      0.00      0.00       246\n",
      "                 death       0.55      0.02      0.04       293\n",
      "             other_aid       0.29      0.02      0.04       828\n",
      "infrastructure_related       0.20      0.00      0.00       421\n",
      "             transport       0.50      0.01      0.01       317\n",
      "             buildings       0.33      0.01      0.02       324\n",
      "           electricity       0.00      0.00      0.00       121\n",
      "                 tools       0.00      0.00      0.00        54\n",
      "             hospitals       0.00      0.00      0.00        61\n",
      "                 shops       0.00      0.00      0.00        34\n",
      "           aid_centers       0.00      0.00      0.00        91\n",
      "  other_infrastructure       0.00      0.00      0.00       277\n",
      "       weather_related       0.66      0.32      0.43      1812\n",
      "                floods       0.47      0.02      0.05       563\n",
      "                 storm       0.29      0.02      0.04       602\n",
      "                  fire       0.00      0.00      0.00        78\n",
      "            earthquake       0.78      0.54      0.64       584\n",
      "                  cold       0.00      0.00      0.00       145\n",
      "         other_weather       0.20      0.00      0.01       342\n",
      "         direct_report       0.50      0.13      0.21      1276\n",
      "\n",
      "           avg / total       0.47      0.16      0.21     15713\n",
      "\n",
      "MESSAGE Step V: save model\n"
     ]
    }
   ],
   "source": [
    "! python train_classifier.py messages.csv categories.csv "
   ]
  }
 ],
 "metadata": {
  "accelerator": "GPU",
  "colab": {
   "collapsed_sections": [],
   "name": "ML Pipeline Preparation.ipynb",
   "provenance": []
  },
  "kernelspec": {
   "display_name": "Python 3",
   "language": "python",
   "name": "python3"
  },
  "language_info": {
   "codemirror_mode": {
    "name": "ipython",
    "version": 3
   },
   "file_extension": ".py",
   "mimetype": "text/x-python",
   "name": "python",
   "nbconvert_exporter": "python",
   "pygments_lexer": "ipython3",
   "version": "3.6.3"
  }
 },
 "nbformat": 4,
 "nbformat_minor": 1
}
